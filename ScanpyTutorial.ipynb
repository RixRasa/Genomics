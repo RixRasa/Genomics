{
  "cells": [
    {
      "cell_type": "markdown",
      "metadata": {
        "id": "PJkXZfhU3SzL"
      },
      "source": [
        "# Scanpy tutorial"
      ]
    },
    {
      "cell_type": "code",
      "execution_count": 3,
      "metadata": {
        "id": "Yn1O8vrsvJte"
      },
      "outputs": [
        {
          "name": "stdout",
          "output_type": "stream",
          "text": [
            "Collecting scanpy\n",
            "  Using cached scanpy-1.10.1-py3-none-any.whl (2.1 MB)\n",
            "Requirement already satisfied: anndata>=0.8 in c:\\users\\stoja\\appdata\\local\\programs\\python\\python310\\lib\\site-packages (from scanpy) (0.10.7)\n",
            "Requirement already satisfied: h5py>=3.1 in c:\\users\\stoja\\appdata\\local\\programs\\python\\python310\\lib\\site-packages (from scanpy) (3.11.0)\n",
            "Requirement already satisfied: joblib in c:\\users\\stoja\\appdata\\local\\programs\\python\\python310\\lib\\site-packages (from scanpy) (1.1.0)\n",
            "Collecting legacy-api-wrap>=1.4 (from scanpy)\n",
            "  Using cached legacy_api_wrap-1.4-py3-none-any.whl (15 kB)\n",
            "Requirement already satisfied: matplotlib>=3.6 in c:\\users\\stoja\\appdata\\local\\programs\\python\\python310\\lib\\site-packages (from scanpy) (3.6.2)\n",
            "Requirement already satisfied: natsort in c:\\users\\stoja\\appdata\\local\\programs\\python\\python310\\lib\\site-packages (from scanpy) (8.4.0)\n",
            "Requirement already satisfied: networkx>=2.7 in c:\\users\\stoja\\appdata\\local\\programs\\python\\python310\\lib\\site-packages (from scanpy) (3.3)\n",
            "Requirement already satisfied: numba>=0.56 in c:\\users\\stoja\\appdata\\local\\programs\\python\\python310\\lib\\site-packages (from scanpy) (0.59.1)\n",
            "Requirement already satisfied: numpy>=1.23 in c:\\users\\stoja\\appdata\\local\\programs\\python\\python310\\lib\\site-packages (from scanpy) (1.24.4)\n",
            "Requirement already satisfied: packaging>=21.3 in c:\\users\\stoja\\appdata\\local\\programs\\python\\python310\\lib\\site-packages (from scanpy) (21.3)\n",
            "Requirement already satisfied: pandas>=1.5 in c:\\users\\stoja\\appdata\\local\\programs\\python\\python310\\lib\\site-packages (from scanpy) (1.5.3)\n",
            "Requirement already satisfied: patsy in c:\\users\\stoja\\appdata\\local\\programs\\python\\python310\\lib\\site-packages (from scanpy) (0.5.6)\n",
            "Collecting pynndescent>=0.5 (from scanpy)\n",
            "  Using cached pynndescent-0.5.12-py3-none-any.whl (56 kB)\n",
            "Requirement already satisfied: scikit-learn>=0.24 in c:\\users\\stoja\\appdata\\local\\programs\\python\\python310\\lib\\site-packages (from scanpy) (1.1.1)\n",
            "Requirement already satisfied: scipy>=1.8 in c:\\users\\stoja\\appdata\\local\\programs\\python\\python310\\lib\\site-packages (from scanpy) (1.8.1)\n",
            "Collecting seaborn>=0.13 (from scanpy)\n",
            "  Using cached seaborn-0.13.2-py3-none-any.whl (294 kB)\n",
            "Collecting session-info (from scanpy)\n",
            "  Using cached session_info-1.0.0-py3-none-any.whl\n",
            "Collecting statsmodels>=0.13 (from scanpy)\n",
            "  Using cached statsmodels-0.14.2-cp310-cp310-win_amd64.whl (9.8 MB)\n",
            "Requirement already satisfied: tqdm in c:\\users\\stoja\\appdata\\local\\programs\\python\\python310\\lib\\site-packages (from scanpy) (4.66.4)\n",
            "Collecting umap-learn!=0.5.0,>=0.5 (from scanpy)\n",
            "  Using cached umap_learn-0.5.6-py3-none-any.whl (85 kB)\n",
            "Requirement already satisfied: array-api-compat!=1.5,>1.4 in c:\\users\\stoja\\appdata\\local\\programs\\python\\python310\\lib\\site-packages (from anndata>=0.8->scanpy) (1.6)\n",
            "Requirement already satisfied: exceptiongroup in c:\\users\\stoja\\appdata\\local\\programs\\python\\python310\\lib\\site-packages (from anndata>=0.8->scanpy) (1.2.1)\n",
            "Requirement already satisfied: contourpy>=1.0.1 in c:\\users\\stoja\\appdata\\local\\programs\\python\\python310\\lib\\site-packages (from matplotlib>=3.6->scanpy) (1.0.6)\n",
            "Requirement already satisfied: cycler>=0.10 in c:\\users\\stoja\\appdata\\local\\programs\\python\\python310\\lib\\site-packages (from matplotlib>=3.6->scanpy) (0.11.0)\n",
            "Requirement already satisfied: fonttools>=4.22.0 in c:\\users\\stoja\\appdata\\local\\programs\\python\\python310\\lib\\site-packages (from matplotlib>=3.6->scanpy) (4.38.0)\n",
            "Requirement already satisfied: kiwisolver>=1.0.1 in c:\\users\\stoja\\appdata\\local\\programs\\python\\python310\\lib\\site-packages (from matplotlib>=3.6->scanpy) (1.4.4)\n",
            "Requirement already satisfied: pillow>=6.2.0 in c:\\users\\stoja\\appdata\\local\\programs\\python\\python310\\lib\\site-packages (from matplotlib>=3.6->scanpy) (9.3.0)\n",
            "Requirement already satisfied: pyparsing>=2.2.1 in c:\\users\\stoja\\appdata\\local\\programs\\python\\python310\\lib\\site-packages (from matplotlib>=3.6->scanpy) (3.0.9)\n",
            "Requirement already satisfied: python-dateutil>=2.7 in c:\\users\\stoja\\appdata\\local\\programs\\python\\python310\\lib\\site-packages (from matplotlib>=3.6->scanpy) (2.8.2)\n",
            "Requirement already satisfied: llvmlite<0.43,>=0.42.0dev0 in c:\\users\\stoja\\appdata\\local\\programs\\python\\python310\\lib\\site-packages (from numba>=0.56->scanpy) (0.42.0)\n",
            "Requirement already satisfied: pytz>=2020.1 in c:\\users\\stoja\\appdata\\local\\programs\\python\\python310\\lib\\site-packages (from pandas>=1.5->scanpy) (2022.7.1)\n",
            "Requirement already satisfied: threadpoolctl>=2.0.0 in c:\\users\\stoja\\appdata\\local\\programs\\python\\python310\\lib\\site-packages (from scikit-learn>=0.24->scanpy) (3.1.0)\n",
            "Requirement already satisfied: six in c:\\users\\stoja\\appdata\\local\\programs\\python\\python310\\lib\\site-packages (from patsy->scanpy) (1.16.0)\n",
            "Requirement already satisfied: stdlib-list in c:\\users\\stoja\\appdata\\local\\programs\\python\\python310\\lib\\site-packages (from session-info->scanpy) (0.10.0)\n",
            "Requirement already satisfied: colorama in c:\\users\\stoja\\appdata\\roaming\\python\\python310\\site-packages (from tqdm->scanpy) (0.4.6)\n",
            "Installing collected packages: session-info, legacy-api-wrap, statsmodels, seaborn, pynndescent, umap-learn, scanpy\n",
            "  Attempting uninstall: seaborn\n",
            "    Found existing installation: seaborn 0.12.2\n",
            "    Uninstalling seaborn-0.12.2:\n",
            "      Successfully uninstalled seaborn-0.12.2\n",
            "Successfully installed legacy-api-wrap-1.4 pynndescent-0.5.12 scanpy-1.10.1 seaborn-0.13.2 session-info-1.0.0 statsmodels-0.14.2 umap-learn-0.5.6\n"
          ]
        },
        {
          "name": "stderr",
          "output_type": "stream",
          "text": [
            "\n",
            "[notice] A new release of pip is available: 23.1.2 -> 24.0\n",
            "[notice] To update, run: python.exe -m pip install --upgrade pip\n"
          ]
        },
        {
          "name": "stdout",
          "output_type": "stream",
          "text": [
            "Requirement already satisfied: decoupler in c:\\users\\stoja\\appdata\\local\\programs\\python\\python310\\lib\\site-packages (1.6.0)\n",
            "Requirement already satisfied: numba in c:\\users\\stoja\\appdata\\local\\programs\\python\\python310\\lib\\site-packages (from decoupler) (0.59.1)\n",
            "Requirement already satisfied: tqdm in c:\\users\\stoja\\appdata\\local\\programs\\python\\python310\\lib\\site-packages (from decoupler) (4.66.4)\n",
            "Requirement already satisfied: anndata in c:\\users\\stoja\\appdata\\local\\programs\\python\\python310\\lib\\site-packages (from decoupler) (0.10.7)\n",
            "Requirement already satisfied: typing-extensions in c:\\users\\stoja\\appdata\\local\\programs\\python\\python310\\lib\\site-packages (from decoupler) (4.11.0)\n",
            "Requirement already satisfied: array-api-compat!=1.5,>1.4 in c:\\users\\stoja\\appdata\\local\\programs\\python\\python310\\lib\\site-packages (from anndata->decoupler) (1.6)\n",
            "Requirement already satisfied: exceptiongroup in c:\\users\\stoja\\appdata\\local\\programs\\python\\python310\\lib\\site-packages (from anndata->decoupler) (1.2.1)\n",
            "Requirement already satisfied: h5py>=3.1 in c:\\users\\stoja\\appdata\\local\\programs\\python\\python310\\lib\\site-packages (from anndata->decoupler) (3.11.0)\n",
            "Requirement already satisfied: natsort in c:\\users\\stoja\\appdata\\local\\programs\\python\\python310\\lib\\site-packages (from anndata->decoupler) (8.4.0)\n",
            "Requirement already satisfied: numpy>=1.23 in c:\\users\\stoja\\appdata\\local\\programs\\python\\python310\\lib\\site-packages (from anndata->decoupler) (1.24.4)\n",
            "Requirement already satisfied: packaging>=20.0 in c:\\users\\stoja\\appdata\\local\\programs\\python\\python310\\lib\\site-packages (from anndata->decoupler) (21.3)\n",
            "Requirement already satisfied: pandas!=2.1.0rc0,!=2.1.2,>=1.4 in c:\\users\\stoja\\appdata\\local\\programs\\python\\python310\\lib\\site-packages (from anndata->decoupler) (1.5.3)\n",
            "Requirement already satisfied: scipy>1.8 in c:\\users\\stoja\\appdata\\local\\programs\\python\\python310\\lib\\site-packages (from anndata->decoupler) (1.8.1)\n",
            "Requirement already satisfied: llvmlite<0.43,>=0.42.0dev0 in c:\\users\\stoja\\appdata\\local\\programs\\python\\python310\\lib\\site-packages (from numba->decoupler) (0.42.0)\n",
            "Requirement already satisfied: colorama in c:\\users\\stoja\\appdata\\roaming\\python\\python310\\site-packages (from tqdm->decoupler) (0.4.6)\n",
            "Requirement already satisfied: pyparsing!=3.0.5,>=2.0.2 in c:\\users\\stoja\\appdata\\local\\programs\\python\\python310\\lib\\site-packages (from packaging>=20.0->anndata->decoupler) (3.0.9)\n",
            "Requirement already satisfied: python-dateutil>=2.8.1 in c:\\users\\stoja\\appdata\\local\\programs\\python\\python310\\lib\\site-packages (from pandas!=2.1.0rc0,!=2.1.2,>=1.4->anndata->decoupler) (2.8.2)\n",
            "Requirement already satisfied: pytz>=2020.1 in c:\\users\\stoja\\appdata\\local\\programs\\python\\python310\\lib\\site-packages (from pandas!=2.1.0rc0,!=2.1.2,>=1.4->anndata->decoupler) (2022.7.1)\n",
            "Requirement already satisfied: six>=1.5 in c:\\users\\stoja\\appdata\\local\\programs\\python\\python310\\lib\\site-packages (from python-dateutil>=2.8.1->pandas!=2.1.0rc0,!=2.1.2,>=1.4->anndata->decoupler) (1.16.0)\n"
          ]
        },
        {
          "name": "stderr",
          "output_type": "stream",
          "text": [
            "\n",
            "[notice] A new release of pip is available: 23.1.2 -> 24.0\n",
            "[notice] To update, run: python.exe -m pip install --upgrade pip\n"
          ]
        },
        {
          "name": "stdout",
          "output_type": "stream",
          "text": [
            "Requirement already satisfied: leidenalg in c:\\users\\stoja\\appdata\\local\\programs\\python\\python310\\lib\\site-packages (0.10.2)\n",
            "Requirement already satisfied: igraph<0.12,>=0.10.0 in c:\\users\\stoja\\appdata\\local\\programs\\python\\python310\\lib\\site-packages (from leidenalg) (0.11.5)\n",
            "Requirement already satisfied: texttable>=1.6.2 in c:\\users\\stoja\\appdata\\local\\programs\\python\\python310\\lib\\site-packages (from igraph<0.12,>=0.10.0->leidenalg) (1.7.0)\n"
          ]
        },
        {
          "name": "stderr",
          "output_type": "stream",
          "text": [
            "\n",
            "[notice] A new release of pip is available: 23.1.2 -> 24.0\n",
            "[notice] To update, run: python.exe -m pip install --upgrade pip\n"
          ]
        },
        {
          "name": "stdout",
          "output_type": "stream",
          "text": [
            "Requirement already satisfied: omnipath in c:\\users\\stoja\\appdata\\local\\programs\\python\\python310\\lib\\site-packages (1.0.8)\n",
            "Requirement already satisfied: attrs>=20.2.0 in c:\\users\\stoja\\appdata\\local\\programs\\python\\python310\\lib\\site-packages (from omnipath) (22.2.0)\n",
            "Requirement already satisfied: docrep>=0.3.1 in c:\\users\\stoja\\appdata\\local\\programs\\python\\python310\\lib\\site-packages (from omnipath) (0.3.2)\n",
            "Requirement already satisfied: inflect>=4.1.0 in c:\\users\\stoja\\appdata\\local\\programs\\python\\python310\\lib\\site-packages (from omnipath) (7.2.1)\n",
            "Requirement already satisfied: packaging in c:\\users\\stoja\\appdata\\local\\programs\\python\\python310\\lib\\site-packages (from omnipath) (21.3)\n",
            "Requirement already satisfied: pandas>=1.2.0 in c:\\users\\stoja\\appdata\\local\\programs\\python\\python310\\lib\\site-packages (from omnipath) (1.5.3)\n",
            "Requirement already satisfied: requests>=2.24.0 in c:\\users\\stoja\\appdata\\local\\programs\\python\\python310\\lib\\site-packages (from omnipath) (2.30.0)\n",
            "Requirement already satisfied: tqdm>=4.51.0 in c:\\users\\stoja\\appdata\\local\\programs\\python\\python310\\lib\\site-packages (from omnipath) (4.66.4)\n",
            "Requirement already satisfied: typing-extensions>=3.7.4.3 in c:\\users\\stoja\\appdata\\local\\programs\\python\\python310\\lib\\site-packages (from omnipath) (4.11.0)\n",
            "Requirement already satisfied: urllib3>=1.26.0 in c:\\users\\stoja\\appdata\\local\\programs\\python\\python310\\lib\\site-packages (from omnipath) (2.0.2)\n",
            "Requirement already satisfied: wrapt>=1.12.0 in c:\\users\\stoja\\appdata\\local\\programs\\python\\python310\\lib\\site-packages (from omnipath) (1.16.0)\n",
            "Requirement already satisfied: six in c:\\users\\stoja\\appdata\\local\\programs\\python\\python310\\lib\\site-packages (from docrep>=0.3.1->omnipath) (1.16.0)\n",
            "Requirement already satisfied: more-itertools in c:\\users\\stoja\\appdata\\local\\programs\\python\\python310\\lib\\site-packages (from inflect>=4.1.0->omnipath) (10.2.0)\n",
            "Requirement already satisfied: typeguard>=4.0.1 in c:\\users\\stoja\\appdata\\local\\programs\\python\\python310\\lib\\site-packages (from inflect>=4.1.0->omnipath) (4.2.1)\n",
            "Requirement already satisfied: python-dateutil>=2.8.1 in c:\\users\\stoja\\appdata\\local\\programs\\python\\python310\\lib\\site-packages (from pandas>=1.2.0->omnipath) (2.8.2)\n",
            "Requirement already satisfied: pytz>=2020.1 in c:\\users\\stoja\\appdata\\local\\programs\\python\\python310\\lib\\site-packages (from pandas>=1.2.0->omnipath) (2022.7.1)\n",
            "Requirement already satisfied: numpy>=1.21.0 in c:\\users\\stoja\\appdata\\local\\programs\\python\\python310\\lib\\site-packages (from pandas>=1.2.0->omnipath) (1.24.4)\n",
            "Requirement already satisfied: charset-normalizer<4,>=2 in c:\\users\\stoja\\appdata\\local\\programs\\python\\python310\\lib\\site-packages (from requests>=2.24.0->omnipath) (3.1.0)\n",
            "Requirement already satisfied: idna<4,>=2.5 in c:\\users\\stoja\\appdata\\local\\programs\\python\\python310\\lib\\site-packages (from requests>=2.24.0->omnipath) (3.4)\n",
            "Requirement already satisfied: certifi>=2017.4.17 in c:\\users\\stoja\\appdata\\local\\programs\\python\\python310\\lib\\site-packages (from requests>=2.24.0->omnipath) (2023.5.7)\n",
            "Requirement already satisfied: colorama in c:\\users\\stoja\\appdata\\roaming\\python\\python310\\site-packages (from tqdm>=4.51.0->omnipath) (0.4.6)\n",
            "Requirement already satisfied: pyparsing!=3.0.5,>=2.0.2 in c:\\users\\stoja\\appdata\\local\\programs\\python\\python310\\lib\\site-packages (from packaging->omnipath) (3.0.9)\n"
          ]
        },
        {
          "name": "stderr",
          "output_type": "stream",
          "text": [
            "\n",
            "[notice] A new release of pip is available: 23.1.2 -> 24.0\n",
            "[notice] To update, run: python.exe -m pip install --upgrade pip\n"
          ]
        }
      ],
      "source": [
        "!pip install scanpy\n",
        "!pip install decoupler\n",
        "!pip install leidenalg\n",
        "!pip install omnipath"
      ]
    },
    {
      "cell_type": "code",
      "execution_count": 1,
      "metadata": {
        "id": "O6NUiCumUWyM"
      },
      "outputs": [],
      "source": [
        "import anndata as ad\n",
        "import scanpy as sc\n",
        "import numpy as np\n",
        "import pandas as pd\n",
        "import seaborn as sns\n",
        "import matplotlib.pyplot as plt\n",
        "import decoupler as dc"
      ]
    },
    {
      "cell_type": "code",
      "execution_count": null,
      "metadata": {
        "id": "cZ3tL2AF_ntd"
      },
      "outputs": [],
      "source": [
        "# Import PyDrive and associated libraries.\n",
        "# This only needs to be done once per notebook.\n",
        "from pydrive.auth import GoogleAuth\n",
        "from pydrive.drive import GoogleDrive\n",
        "from google.colab import auth\n",
        "from oauth2client.client import GoogleCredentials\n",
        "\n",
        "# Authenticate and create the PyDrive client.\n",
        "# This only needs to be done once per notebook.\n",
        "auth.authenticate_user()\n",
        "gauth = GoogleAuth()\n",
        "gauth.credentials = GoogleCredentials.get_application_default()\n",
        "drive = GoogleDrive(gauth)\n",
        "\n",
        "# Download a file based on its file ID.\n",
        "#\n",
        "# A file ID looks like: laggVyWshwcyP6kEI-y_W3P8D26sz\n",
        "file_id = '1MZ6HmqiCeN5mJd2cYM498PgnNOV8goQ9'\n",
        "downloaded = drive.CreateFile({'id': file_id})\n",
        "downloaded.GetContentFile('GTEX-1HSMQ-5005.h5ad')"
      ]
    },
    {
      "cell_type": "code",
      "execution_count": null,
      "metadata": {
        "id": "avQPATwpxE5m"
      },
      "outputs": [],
      "source": [
        "!wget -O GTEX-1HSMQ-5005.h5ad  \"https://drive.usercontent.google.com/download?id=1MZ6HmqiCeN5mJd2cYM498PgnNOV8goQ9&export=download&authuser=0&confirm=t&uuid=b3f632b6-8dd3-4cbe-aade-886aad76299c&at=APZUnTV6ape4OEBvDGLvCmNBfgp0%3A1714034617680\""
      ]
    },
    {
      "cell_type": "code",
      "execution_count": null,
      "metadata": {
        "id": "gsRO62rvvTLE"
      },
      "outputs": [],
      "source": [
        "adata = ad.read_h5ad('GTEX-1HSMQ-5005.h5ad')\n",
        "adata"
      ]
    },
    {
      "cell_type": "code",
      "execution_count": null,
      "metadata": {
        "id": "cKDYAsUiv81O"
      },
      "outputs": [],
      "source": [
        "sc.pl.umap(adata, color='batch', title='RNA UMAP batch', frameon=False, legend_fontweight='normal', legend_fontsize=15)"
      ]
    },
    {
      "cell_type": "code",
      "execution_count": null,
      "metadata": {
        "id": "t10w8BeaDAYe"
      },
      "outputs": [],
      "source": [
        "adata[adata.obs.batch == '49'].obs['Broad cell type (numbers)']"
      ]
    },
    {
      "cell_type": "markdown",
      "metadata": {
        "id": "kxLxU9E8eDKq"
      },
      "source": [
        "## Slicing one batch"
      ]
    },
    {
      "cell_type": "code",
      "execution_count": null,
      "metadata": {
        "id": "dcobYHCG23Uc"
      },
      "outputs": [],
      "source": [
        "ada = adata[adata.obs.batch == '49'].copy()\n",
        "ada"
      ]
    },
    {
      "cell_type": "markdown",
      "metadata": {
        "id": "ljXmO_1fePHY"
      },
      "source": [
        "## Filtering and quality control"
      ]
    },
    {
      "cell_type": "code",
      "execution_count": null,
      "metadata": {
        "id": "GVetAIKs3Dsv"
      },
      "outputs": [],
      "source": [
        "sc.pp.filter_cells(ada, min_genes=200)\n",
        "sc.pp.filter_genes(ada, min_cells=3)\n",
        "\n",
        "ada.var['mt'] = ada.var_names.str.startswith('MT-')\n",
        "sc.pp.calculate_qc_metrics(ada, qc_vars=[\"mt\"], percent_top=None, log1p=False, inplace=True)\n",
        "sc.pl.violin(ada, [\"n_genes_by_counts\", \"total_counts\", \"pct_counts_mt\"], jitter=0.4, multi_panel=True)\n",
        "sc.pl.scatter(ada, x=\"total_counts\", y=\"pct_counts_mt\")\n",
        "sc.pl.scatter(ada, x=\"total_counts\", y=\"n_genes_by_counts\")\n",
        "ada"
      ]
    },
    {
      "cell_type": "code",
      "execution_count": null,
      "metadata": {
        "id": "owJaBUzd6Yh-"
      },
      "outputs": [],
      "source": [
        "# Filter cells following standard QC criteria.\n",
        "ada = ada[ada.obs.n_genes_by_counts < 2000, :]"
      ]
    },
    {
      "cell_type": "markdown",
      "metadata": {
        "id": "RZf0fF1ReWWo"
      },
      "source": [
        "## Normalization, scaling, dimensionality reduction and clustering"
      ]
    },
    {
      "cell_type": "code",
      "execution_count": null,
      "metadata": {
        "id": "gXuznXCKeZR4"
      },
      "outputs": [],
      "source": [
        "# Normalize the data\n",
        "sc.pp.normalize_total(ada, target_sum=1e4)\n",
        "sc.pp.log1p(ada)\n",
        "ada.layers['log_norm'] = ada.X.copy()"
      ]
    },
    {
      "cell_type": "code",
      "execution_count": null,
      "metadata": {
        "id": "1DMWljEL7DKy"
      },
      "outputs": [],
      "source": [
        "# Identify the highly variable genes\n",
        "sc.pp.highly_variable_genes(ada, min_mean=0.0125, max_mean=3, min_disp=0.5)\n",
        "\n",
        "# Regress and scale the data\n",
        "sc.pp.regress_out(ada, ['total_counts', 'pct_counts_mt'])\n",
        "sc.pp.scale(ada, max_value=10)\n",
        "\n",
        "# Generate PCA features\n",
        "sc.tl.pca(ada, svd_solver='arpack')\n",
        "\n",
        "#Restore X to be norm counts\n",
        "dc.swap_layer(ada, 'log_norm', X_layer_key=None, inplace=True)\n",
        "\n",
        "# Compute distances in the PCA space, and find cell neighbors\n",
        "sc.pp.neighbors(ada, n_neighbors=10, n_pcs=40)\n",
        "\n",
        "# Generate UMAP features\n",
        "sc.tl.umap(ada)\n",
        "\n",
        "# Run leiden clustering algorithm\n",
        "sc.tl.leiden(ada)\n",
        "\n",
        "# Visualize\n",
        "sc.pl.umap(ada, color='leiden', title='Leiden UMAP',\n",
        "           frameon=False, legend_fontweight='normal', legend_fontsize=15)\n",
        "sc.pl.umap(ada, color='Cell types level 2', title='Ground truth UMAP',\n",
        "           frameon=False, legend_fontweight='normal', legend_fontsize=15)\n"
      ]
    },
    {
      "cell_type": "code",
      "execution_count": null,
      "metadata": {
        "id": "w_Wb-7PHC2UB"
      },
      "outputs": [],
      "source": [
        "sc.tl.leiden(ada, resolution=0.05)\n",
        "# Visualize\n",
        "sc.pl.umap(ada, color='leiden', title='Leiden UMAP',\n",
        "           frameon=False, legend_fontweight='normal', legend_fontsize=15)\n",
        "sc.pl.umap(ada, color='Cell types level 2', title='Ground truth UMAP',\n",
        "           frameon=False, legend_fontweight='normal', legend_fontsize=15)"
      ]
    },
    {
      "cell_type": "markdown",
      "metadata": {
        "id": "JvAIcSPqkBOa"
      },
      "source": [
        "## Cell type annotation\n"
      ]
    },
    {
      "cell_type": "code",
      "execution_count": null,
      "metadata": {
        "id": "zb-kOJL5Wrlj"
      },
      "outputs": [],
      "source": [
        "markers = dc.get_resource('PanglaoDB')\n",
        "markers"
      ]
    },
    {
      "cell_type": "code",
      "execution_count": null,
      "metadata": {
        "id": "GHzd1lTVW-zv"
      },
      "outputs": [],
      "source": [
        "# Filter by canonical_marker and human\n",
        "markers = markers[markers['human'] & markers['canonical_marker'] & (markers['human_sensitivity'] > 0.5)]\n",
        "\n",
        "# Remove duplicated entries\n",
        "markers = markers[~markers.duplicated(['cell_type', 'genesymbol'])]\n",
        "markers"
      ]
    },
    {
      "cell_type": "code",
      "execution_count": null,
      "metadata": {
        "id": "y15KXF0OauD-"
      },
      "outputs": [],
      "source": [
        "dc.run_ora(\n",
        "    mat=ada,\n",
        "    net=markers,\n",
        "    source='cell_type',\n",
        "    target='genesymbol',\n",
        "    min_n=3,\n",
        "    verbose=True,\n",
        "    use_raw=False\n",
        ")"
      ]
    },
    {
      "cell_type": "code",
      "execution_count": null,
      "metadata": {
        "id": "BFEWdghEbB2C"
      },
      "outputs": [],
      "source": [
        "ada.obsm['ora_estimate']"
      ]
    },
    {
      "cell_type": "code",
      "execution_count": null,
      "metadata": {
        "id": "V1wlKgogbXQc"
      },
      "outputs": [],
      "source": [
        "acts = dc.get_acts(ada, obsm_key='ora_estimate')\n",
        "\n",
        "# We need to remove inf and set them to the maximum value observed for pvals=0\n",
        "acts_v = acts.X.ravel()\n",
        "max_e = np.nanmax(acts_v[np.isfinite(acts_v)])\n",
        "acts.X[~np.isfinite(acts.X)] = max_e\n",
        "\n",
        "acts"
      ]
    },
    {
      "cell_type": "code",
      "execution_count": null,
      "metadata": {
        "id": "OqU0zki5btz6"
      },
      "outputs": [],
      "source": [
        "sc.pl.umap(acts, color=['T cells', 'leiden'], cmap='RdBu_r')\n",
        "sc.pl.violin(acts, keys=['T cells'], groupby='leiden')"
      ]
    },
    {
      "cell_type": "code",
      "execution_count": null,
      "metadata": {
        "id": "6wuArO_7b6HA"
      },
      "outputs": [],
      "source": [
        "df = dc.rank_sources_groups(acts, groupby='leiden', reference='rest', method='t-test_overestim_var')\n",
        "df"
      ]
    },
    {
      "cell_type": "code",
      "execution_count": null,
      "metadata": {
        "id": "YVTSLOmHcChe"
      },
      "outputs": [],
      "source": [
        "n_ctypes = 3\n",
        "ctypes_dict = df.groupby('group').head(n_ctypes).groupby('group')['names'].apply(lambda x: list(x)).to_dict()\n",
        "ctypes_dict"
      ]
    },
    {
      "cell_type": "code",
      "execution_count": null,
      "metadata": {
        "id": "_QhCftWzhMwj"
      },
      "outputs": [],
      "source": [
        "# df2 = dc.rank_sources_groups(acts, groupby='Cell types level 2', reference='rest', method='t-test_overestim_var')\n",
        "# ctypes_dict2 = df2.groupby('group').head(n_ctypes).groupby('group')['names'].apply(lambda x: list(x)).to_dict()\n",
        "# ctypes_dict2"
      ]
    },
    {
      "cell_type": "code",
      "execution_count": null,
      "metadata": {
        "id": "dtTVe50YX7oq"
      },
      "outputs": [],
      "source": [
        "predicted_types = ada.obsm['ora_estimate'].idxmax(axis=1)\n",
        "predicted_types"
      ]
    },
    {
      "cell_type": "code",
      "execution_count": null,
      "metadata": {
        "id": "YdeD5boLkSQq"
      },
      "outputs": [],
      "source": [
        "from collections import Counter\n",
        "Counter(predicted_types)"
      ]
    },
    {
      "cell_type": "code",
      "execution_count": null,
      "metadata": {
        "id": "_5AZuanol_yx"
      },
      "outputs": [],
      "source": [
        "ada.obs['Broad cell type (numbers)'].unique()"
      ]
    },
    {
      "cell_type": "code",
      "execution_count": null,
      "metadata": {
        "id": "OKG457pckoZg"
      },
      "outputs": [],
      "source": [
        "from sklearn.metrics.cluster import contingency_matrix\n",
        "cm = contingency_matrix(ada.obs.loc[:, 'Broad cell type (numbers)'], predicted_types)\n",
        "# Visualize the confusion matrix using Seaborn\n",
        "class_labels_y = np.unique(ada.obs.loc[:, 'Broad cell type (numbers)'])\n",
        "class_labels_x = np.unique(predicted_types)\n",
        "\n",
        "plt.figure(figsize=(15,15))\n",
        "sns.heatmap(cm, annot=True, fmt=\"d\", cmap=\"Blues\", cbar=False, xticklabels=class_labels_x, yticklabels=class_labels_y)\n",
        "plt.xlabel(\"CoDi Predicted Labels\")\n",
        "plt.ylabel(\"Labels from original paper\")\n",
        "plt.title(\"Contingency Matrix\")\n",
        "# plt.savefig(out_name, dpi=150, bbox_inches='tight')"
      ]
    },
    {
      "cell_type": "markdown",
      "metadata": {
        "id": "4YLP7_iDdbmy"
      },
      "source": [
        "## Different parameters and preprocessing"
      ]
    },
    {
      "cell_type": "code",
      "execution_count": null,
      "metadata": {
        "id": "Xk-ao50RG2n5"
      },
      "outputs": [],
      "source": [
        "ada2 = adata[adata.obs.batch == '49'].copy()\n",
        "\n",
        "sc.pp.filter_cells(ada2, min_genes=200)\n",
        "sc.pp.filter_genes(ada2, min_cells=3)\n",
        "\n",
        "# Normalize the data\n",
        "sc.pp.normalize_total(ada2, target_sum=1e4)\n",
        "sc.pp.log1p(ada2)\n",
        "\n",
        "sc.pp.scale(ada2)\n",
        "\n",
        "# Generate PCA features\n",
        "sc.tl.pca(ada2, svd_solver='arpack')\n",
        "# Compute distances in the PCA space, and find cell neighbors\n",
        "sc.pp.neighbors(ada2, n_neighbors=10, n_pcs=40)\n",
        "\n",
        "# Generate UMAP features\n",
        "sc.tl.umap(ada2)\n",
        "\n"
      ]
    },
    {
      "cell_type": "code",
      "execution_count": null,
      "metadata": {
        "id": "hvyETVJdKf3p"
      },
      "outputs": [],
      "source": [
        "# Run leiden clustering algorithm\n",
        "sc.tl.leiden(ada2, resolution=0.05)\n",
        "\n",
        "# Visualize\n",
        "sc.pl.umap(ada2, color='leiden', title='RNA UMAP',\n",
        "           frameon=False, legend_fontweight='normal', legend_fontsize=15)\n",
        "# Visualize\n",
        "sc.pl.umap(ada2, color='Cell types level 2', title='RNA UMAP',\n",
        "           frameon=False, legend_fontweight='normal', legend_fontsize=15)"
      ]
    },
    {
      "cell_type": "code",
      "execution_count": null,
      "metadata": {
        "id": "Ov-eb1NSgEO7"
      },
      "outputs": [],
      "source": [
        "dc.run_ora(\n",
        "    mat=ada2,\n",
        "    net=markers,\n",
        "    source='cell_type',\n",
        "    target='genesymbol',\n",
        "    min_n=3,\n",
        "    verbose=True,\n",
        "    use_raw=False\n",
        ")\n",
        "acts2 = dc.get_acts(ada2, obsm_key='ora_estimate')\n",
        "\n",
        "# We need to remove inf and set them to the maximum value observed for pvals=0\n",
        "acts_v2 = acts2.X.ravel()\n",
        "max_e2 = np.nanmax(acts_v2[np.isfinite(acts_v2)])\n",
        "acts2.X[~np.isfinite(acts2.X)] = max_e2\n",
        "\n",
        "df2 = dc.rank_sources_groups(acts2, groupby='leiden', reference='rest', method='t-test_overestim_var')\n",
        "ctypes_dict2 = df.groupby('group').head(n_ctypes).groupby('group')['names'].apply(lambda x: list(x)).to_dict()\n",
        "ctypes_dict2"
      ]
    }
  ],
  "metadata": {
    "colab": {
      "provenance": [],
      "toc_visible": true
    },
    "kernelspec": {
      "display_name": "Python 3",
      "name": "python3"
    },
    "language_info": {
      "codemirror_mode": {
        "name": "ipython",
        "version": 3
      },
      "file_extension": ".py",
      "mimetype": "text/x-python",
      "name": "python",
      "nbconvert_exporter": "python",
      "pygments_lexer": "ipython3",
      "version": "3.10.1"
    }
  },
  "nbformat": 4,
  "nbformat_minor": 0
}
