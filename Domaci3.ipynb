{
 "cells": [
  {
   "cell_type": "code",
   "execution_count": 1,
   "id": "08fdbcbb-1b6a-4d20-8d94-fe8728ddf413",
   "metadata": {},
   "outputs": [
    {
     "name": "stderr",
     "output_type": "stream",
     "text": [
      "\n",
      "[notice] A new release of pip is available: 23.1.2 -> 24.0\n",
      "[notice] To update, run: python.exe -m pip install --upgrade pip\n"
     ]
    },
    {
     "name": "stdout",
     "output_type": "stream",
     "text": [
      "Requirement already satisfied: scanpy in c:\\users\\stoja\\appdata\\local\\programs\\python\\python310\\lib\\site-packages (1.10.1)\n",
      "Requirement already satisfied: anndata>=0.8 in c:\\users\\stoja\\appdata\\local\\programs\\python\\python310\\lib\\site-packages (from scanpy) (0.10.7)\n",
      "Requirement already satisfied: h5py>=3.1 in c:\\users\\stoja\\appdata\\local\\programs\\python\\python310\\lib\\site-packages (from scanpy) (3.11.0)\n",
      "Requirement already satisfied: joblib in c:\\users\\stoja\\appdata\\local\\programs\\python\\python310\\lib\\site-packages (from scanpy) (1.1.0)\n",
      "Requirement already satisfied: legacy-api-wrap>=1.4 in c:\\users\\stoja\\appdata\\local\\programs\\python\\python310\\lib\\site-packages (from scanpy) (1.4)\n",
      "Requirement already satisfied: matplotlib>=3.6 in c:\\users\\stoja\\appdata\\local\\programs\\python\\python310\\lib\\site-packages (from scanpy) (3.6.2)\n",
      "Requirement already satisfied: natsort in c:\\users\\stoja\\appdata\\local\\programs\\python\\python310\\lib\\site-packages (from scanpy) (8.4.0)\n",
      "Requirement already satisfied: networkx>=2.7 in c:\\users\\stoja\\appdata\\local\\programs\\python\\python310\\lib\\site-packages (from scanpy) (3.3)\n",
      "Requirement already satisfied: numba>=0.56 in c:\\users\\stoja\\appdata\\local\\programs\\python\\python310\\lib\\site-packages (from scanpy) (0.59.1)\n",
      "Requirement already satisfied: numpy>=1.23 in c:\\users\\stoja\\appdata\\local\\programs\\python\\python310\\lib\\site-packages (from scanpy) (1.24.4)\n",
      "Requirement already satisfied: packaging>=21.3 in c:\\users\\stoja\\appdata\\local\\programs\\python\\python310\\lib\\site-packages (from scanpy) (21.3)\n",
      "Requirement already satisfied: pandas>=1.5 in c:\\users\\stoja\\appdata\\local\\programs\\python\\python310\\lib\\site-packages (from scanpy) (1.5.3)\n",
      "Requirement already satisfied: patsy in c:\\users\\stoja\\appdata\\local\\programs\\python\\python310\\lib\\site-packages (from scanpy) (0.5.6)\n",
      "Requirement already satisfied: pynndescent>=0.5 in c:\\users\\stoja\\appdata\\local\\programs\\python\\python310\\lib\\site-packages (from scanpy) (0.5.12)\n",
      "Requirement already satisfied: scikit-learn>=0.24 in c:\\users\\stoja\\appdata\\local\\programs\\python\\python310\\lib\\site-packages (from scanpy) (1.1.1)\n",
      "Requirement already satisfied: scipy>=1.8 in c:\\users\\stoja\\appdata\\local\\programs\\python\\python310\\lib\\site-packages (from scanpy) (1.8.1)\n",
      "Requirement already satisfied: seaborn>=0.13 in c:\\users\\stoja\\appdata\\local\\programs\\python\\python310\\lib\\site-packages (from scanpy) (0.13.2)\n",
      "Requirement already satisfied: session-info in c:\\users\\stoja\\appdata\\local\\programs\\python\\python310\\lib\\site-packages (from scanpy) (1.0.0)\n",
      "Requirement already satisfied: statsmodels>=0.13 in c:\\users\\stoja\\appdata\\local\\programs\\python\\python310\\lib\\site-packages (from scanpy) (0.14.2)\n",
      "Requirement already satisfied: tqdm in c:\\users\\stoja\\appdata\\local\\programs\\python\\python310\\lib\\site-packages (from scanpy) (4.66.4)\n",
      "Requirement already satisfied: umap-learn!=0.5.0,>=0.5 in c:\\users\\stoja\\appdata\\local\\programs\\python\\python310\\lib\\site-packages (from scanpy) (0.5.6)\n",
      "Requirement already satisfied: array-api-compat!=1.5,>1.4 in c:\\users\\stoja\\appdata\\local\\programs\\python\\python310\\lib\\site-packages (from anndata>=0.8->scanpy) (1.6)\n",
      "Requirement already satisfied: exceptiongroup in c:\\users\\stoja\\appdata\\local\\programs\\python\\python310\\lib\\site-packages (from anndata>=0.8->scanpy) (1.2.1)\n",
      "Requirement already satisfied: contourpy>=1.0.1 in c:\\users\\stoja\\appdata\\local\\programs\\python\\python310\\lib\\site-packages (from matplotlib>=3.6->scanpy) (1.0.6)\n",
      "Requirement already satisfied: cycler>=0.10 in c:\\users\\stoja\\appdata\\local\\programs\\python\\python310\\lib\\site-packages (from matplotlib>=3.6->scanpy) (0.11.0)\n",
      "Requirement already satisfied: fonttools>=4.22.0 in c:\\users\\stoja\\appdata\\local\\programs\\python\\python310\\lib\\site-packages (from matplotlib>=3.6->scanpy) (4.38.0)\n",
      "Requirement already satisfied: kiwisolver>=1.0.1 in c:\\users\\stoja\\appdata\\local\\programs\\python\\python310\\lib\\site-packages (from matplotlib>=3.6->scanpy) (1.4.4)\n",
      "Requirement already satisfied: pillow>=6.2.0 in c:\\users\\stoja\\appdata\\local\\programs\\python\\python310\\lib\\site-packages (from matplotlib>=3.6->scanpy) (9.3.0)\n",
      "Requirement already satisfied: pyparsing>=2.2.1 in c:\\users\\stoja\\appdata\\local\\programs\\python\\python310\\lib\\site-packages (from matplotlib>=3.6->scanpy) (3.0.9)\n",
      "Requirement already satisfied: python-dateutil>=2.7 in c:\\users\\stoja\\appdata\\local\\programs\\python\\python310\\lib\\site-packages (from matplotlib>=3.6->scanpy) (2.8.2)\n",
      "Requirement already satisfied: llvmlite<0.43,>=0.42.0dev0 in c:\\users\\stoja\\appdata\\local\\programs\\python\\python310\\lib\\site-packages (from numba>=0.56->scanpy) (0.42.0)\n",
      "Requirement already satisfied: pytz>=2020.1 in c:\\users\\stoja\\appdata\\local\\programs\\python\\python310\\lib\\site-packages (from pandas>=1.5->scanpy) (2022.7.1)\n",
      "Requirement already satisfied: threadpoolctl>=2.0.0 in c:\\users\\stoja\\appdata\\local\\programs\\python\\python310\\lib\\site-packages (from scikit-learn>=0.24->scanpy) (3.1.0)\n",
      "Requirement already satisfied: six in c:\\users\\stoja\\appdata\\local\\programs\\python\\python310\\lib\\site-packages (from patsy->scanpy) (1.16.0)\n",
      "Requirement already satisfied: stdlib-list in c:\\users\\stoja\\appdata\\local\\programs\\python\\python310\\lib\\site-packages (from session-info->scanpy) (0.10.0)\n",
      "Requirement already satisfied: colorama in c:\\users\\stoja\\appdata\\roaming\\python\\python310\\site-packages (from tqdm->scanpy) (0.4.6)\n",
      "Requirement already satisfied: decoupler in c:\\users\\stoja\\appdata\\local\\programs\\python\\python310\\lib\\site-packages (1.6.0)\n",
      "Requirement already satisfied: numba in c:\\users\\stoja\\appdata\\local\\programs\\python\\python310\\lib\\site-packages (from decoupler) (0.59.1)\n",
      "Requirement already satisfied: tqdm in c:\\users\\stoja\\appdata\\local\\programs\\python\\python310\\lib\\site-packages (from decoupler) (4.66.4)\n",
      "Requirement already satisfied: anndata in c:\\users\\stoja\\appdata\\local\\programs\\python\\python310\\lib\\site-packages (from decoupler) (0.10.7)\n",
      "Requirement already satisfied: typing-extensions in c:\\users\\stoja\\appdata\\local\\programs\\python\\python310\\lib\\site-packages (from decoupler) (4.11.0)\n",
      "Requirement already satisfied: array-api-compat!=1.5,>1.4 in c:\\users\\stoja\\appdata\\local\\programs\\python\\python310\\lib\\site-packages (from anndata->decoupler) (1.6)\n",
      "Requirement already satisfied: exceptiongroup in c:\\users\\stoja\\appdata\\local\\programs\\python\\python310\\lib\\site-packages (from anndata->decoupler) (1.2.1)\n",
      "Requirement already satisfied: h5py>=3.1 in c:\\users\\stoja\\appdata\\local\\programs\\python\\python310\\lib\\site-packages (from anndata->decoupler) (3.11.0)\n",
      "Requirement already satisfied: natsort in c:\\users\\stoja\\appdata\\local\\programs\\python\\python310\\lib\\site-packages (from anndata->decoupler) (8.4.0)\n",
      "Requirement already satisfied: numpy>=1.23 in c:\\users\\stoja\\appdata\\local\\programs\\python\\python310\\lib\\site-packages (from anndata->decoupler) (1.24.4)\n",
      "Requirement already satisfied: packaging>=20.0 in c:\\users\\stoja\\appdata\\local\\programs\\python\\python310\\lib\\site-packages (from anndata->decoupler) (21.3)\n",
      "Requirement already satisfied: pandas!=2.1.0rc0,!=2.1.2,>=1.4 in c:\\users\\stoja\\appdata\\local\\programs\\python\\python310\\lib\\site-packages (from anndata->decoupler) (1.5.3)\n",
      "Requirement already satisfied: scipy>1.8 in c:\\users\\stoja\\appdata\\local\\programs\\python\\python310\\lib\\site-packages (from anndata->decoupler) (1.8.1)\n",
      "Requirement already satisfied: llvmlite<0.43,>=0.42.0dev0 in c:\\users\\stoja\\appdata\\local\\programs\\python\\python310\\lib\\site-packages (from numba->decoupler) (0.42.0)\n",
      "Requirement already satisfied: colorama in c:\\users\\stoja\\appdata\\roaming\\python\\python310\\site-packages (from tqdm->decoupler) (0.4.6)\n",
      "Requirement already satisfied: pyparsing!=3.0.5,>=2.0.2 in c:\\users\\stoja\\appdata\\local\\programs\\python\\python310\\lib\\site-packages (from packaging>=20.0->anndata->decoupler) (3.0.9)\n",
      "Requirement already satisfied: python-dateutil>=2.8.1 in c:\\users\\stoja\\appdata\\local\\programs\\python\\python310\\lib\\site-packages (from pandas!=2.1.0rc0,!=2.1.2,>=1.4->anndata->decoupler) (2.8.2)\n",
      "Requirement already satisfied: pytz>=2020.1 in c:\\users\\stoja\\appdata\\local\\programs\\python\\python310\\lib\\site-packages (from pandas!=2.1.0rc0,!=2.1.2,>=1.4->anndata->decoupler) (2022.7.1)\n",
      "Requirement already satisfied: six>=1.5 in c:\\users\\stoja\\appdata\\local\\programs\\python\\python310\\lib\\site-packages (from python-dateutil>=2.8.1->pandas!=2.1.0rc0,!=2.1.2,>=1.4->anndata->decoupler) (1.16.0)\n"
     ]
    },
    {
     "name": "stderr",
     "output_type": "stream",
     "text": [
      "\n",
      "[notice] A new release of pip is available: 23.1.2 -> 24.0\n",
      "[notice] To update, run: python.exe -m pip install --upgrade pip\n"
     ]
    },
    {
     "name": "stdout",
     "output_type": "stream",
     "text": [
      "Requirement already satisfied: leidenalg in c:\\users\\stoja\\appdata\\local\\programs\\python\\python310\\lib\\site-packages (0.10.2)\n",
      "Requirement already satisfied: igraph<0.12,>=0.10.0 in c:\\users\\stoja\\appdata\\local\\programs\\python\\python310\\lib\\site-packages (from leidenalg) (0.11.5)\n",
      "Requirement already satisfied: texttable>=1.6.2 in c:\\users\\stoja\\appdata\\local\\programs\\python\\python310\\lib\\site-packages (from igraph<0.12,>=0.10.0->leidenalg) (1.7.0)\n"
     ]
    },
    {
     "name": "stderr",
     "output_type": "stream",
     "text": [
      "\n",
      "[notice] A new release of pip is available: 23.1.2 -> 24.0\n",
      "[notice] To update, run: python.exe -m pip install --upgrade pip\n",
      "\n",
      "[notice] A new release of pip is available: 23.1.2 -> 24.0\n",
      "[notice] To update, run: python.exe -m pip install --upgrade pip\n"
     ]
    },
    {
     "name": "stdout",
     "output_type": "stream",
     "text": [
      "Requirement already satisfied: omnipath in c:\\users\\stoja\\appdata\\local\\programs\\python\\python310\\lib\\site-packages (1.0.8)\n",
      "Requirement already satisfied: attrs>=20.2.0 in c:\\users\\stoja\\appdata\\local\\programs\\python\\python310\\lib\\site-packages (from omnipath) (22.2.0)\n",
      "Requirement already satisfied: docrep>=0.3.1 in c:\\users\\stoja\\appdata\\local\\programs\\python\\python310\\lib\\site-packages (from omnipath) (0.3.2)\n",
      "Requirement already satisfied: inflect>=4.1.0 in c:\\users\\stoja\\appdata\\local\\programs\\python\\python310\\lib\\site-packages (from omnipath) (7.2.1)\n",
      "Requirement already satisfied: packaging in c:\\users\\stoja\\appdata\\local\\programs\\python\\python310\\lib\\site-packages (from omnipath) (21.3)\n",
      "Requirement already satisfied: pandas>=1.2.0 in c:\\users\\stoja\\appdata\\local\\programs\\python\\python310\\lib\\site-packages (from omnipath) (1.5.3)\n",
      "Requirement already satisfied: requests>=2.24.0 in c:\\users\\stoja\\appdata\\local\\programs\\python\\python310\\lib\\site-packages (from omnipath) (2.30.0)\n",
      "Requirement already satisfied: tqdm>=4.51.0 in c:\\users\\stoja\\appdata\\local\\programs\\python\\python310\\lib\\site-packages (from omnipath) (4.66.4)\n",
      "Requirement already satisfied: typing-extensions>=3.7.4.3 in c:\\users\\stoja\\appdata\\local\\programs\\python\\python310\\lib\\site-packages (from omnipath) (4.11.0)\n",
      "Requirement already satisfied: urllib3>=1.26.0 in c:\\users\\stoja\\appdata\\local\\programs\\python\\python310\\lib\\site-packages (from omnipath) (2.0.2)\n",
      "Requirement already satisfied: wrapt>=1.12.0 in c:\\users\\stoja\\appdata\\local\\programs\\python\\python310\\lib\\site-packages (from omnipath) (1.16.0)\n",
      "Requirement already satisfied: six in c:\\users\\stoja\\appdata\\local\\programs\\python\\python310\\lib\\site-packages (from docrep>=0.3.1->omnipath) (1.16.0)\n",
      "Requirement already satisfied: more-itertools in c:\\users\\stoja\\appdata\\local\\programs\\python\\python310\\lib\\site-packages (from inflect>=4.1.0->omnipath) (10.2.0)\n",
      "Requirement already satisfied: typeguard>=4.0.1 in c:\\users\\stoja\\appdata\\local\\programs\\python\\python310\\lib\\site-packages (from inflect>=4.1.0->omnipath) (4.2.1)\n",
      "Requirement already satisfied: python-dateutil>=2.8.1 in c:\\users\\stoja\\appdata\\local\\programs\\python\\python310\\lib\\site-packages (from pandas>=1.2.0->omnipath) (2.8.2)\n",
      "Requirement already satisfied: pytz>=2020.1 in c:\\users\\stoja\\appdata\\local\\programs\\python\\python310\\lib\\site-packages (from pandas>=1.2.0->omnipath) (2022.7.1)\n",
      "Requirement already satisfied: numpy>=1.21.0 in c:\\users\\stoja\\appdata\\local\\programs\\python\\python310\\lib\\site-packages (from pandas>=1.2.0->omnipath) (1.24.4)\n",
      "Requirement already satisfied: charset-normalizer<4,>=2 in c:\\users\\stoja\\appdata\\local\\programs\\python\\python310\\lib\\site-packages (from requests>=2.24.0->omnipath) (3.1.0)\n",
      "Requirement already satisfied: idna<4,>=2.5 in c:\\users\\stoja\\appdata\\local\\programs\\python\\python310\\lib\\site-packages (from requests>=2.24.0->omnipath) (3.4)\n",
      "Requirement already satisfied: certifi>=2017.4.17 in c:\\users\\stoja\\appdata\\local\\programs\\python\\python310\\lib\\site-packages (from requests>=2.24.0->omnipath) (2023.5.7)\n",
      "Requirement already satisfied: colorama in c:\\users\\stoja\\appdata\\roaming\\python\\python310\\site-packages (from tqdm>=4.51.0->omnipath) (0.4.6)\n",
      "Requirement already satisfied: pyparsing!=3.0.5,>=2.0.2 in c:\\users\\stoja\\appdata\\local\\programs\\python\\python310\\lib\\site-packages (from packaging->omnipath) (3.0.9)\n"
     ]
    }
   ],
   "source": [
    "!pip install scanpy\n",
    "!pip install decoupler\n",
    "!pip install leidenalg\n",
    "!pip install omnipath"
   ]
  },
  {
   "cell_type": "code",
   "execution_count": 2,
   "id": "d948167c-8158-44f5-92a0-d0ddc30d78fa",
   "metadata": {},
   "outputs": [],
   "source": [
    "import anndata as ad\n",
    "import scanpy as sc\n",
    "import numpy as np\n",
    "import pandas as pd\n",
    "import seaborn as sns\n",
    "import matplotlib.pyplot as plt\n",
    "import decoupler as dc"
   ]
  }
 ],
 "metadata": {
  "kernelspec": {
   "display_name": "Python 3 (ipykernel)",
   "language": "python",
   "name": "python3"
  },
  "language_info": {
   "codemirror_mode": {
    "name": "ipython",
    "version": 3
   },
   "file_extension": ".py",
   "mimetype": "text/x-python",
   "name": "python",
   "nbconvert_exporter": "python",
   "pygments_lexer": "ipython3",
   "version": "3.10.1"
  }
 },
 "nbformat": 4,
 "nbformat_minor": 5
}
